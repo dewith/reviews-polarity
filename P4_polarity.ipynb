{
  "nbformat": 4,
  "nbformat_minor": 0,
  "metadata": {
    "colab": {
      "name": "DS_Proyecto_03_NLP.ipynb",
      "provenance": [],
      "collapsed_sections": []
    },
    "hide_input": false,
    "kernelspec": {
      "display_name": "Python 3",
      "language": "python",
      "name": "python3"
    },
    "language_info": {
      "codemirror_mode": {
        "name": "ipython",
        "version": 3
      },
      "file_extension": ".py",
      "mimetype": "text/x-python",
      "name": "python",
      "nbconvert_exporter": "python",
      "pygments_lexer": "ipython3",
      "version": "3.7.9"
    },
    "toc": {
      "base_numbering": 1,
      "nav_menu": {
        "height": "183px",
        "width": "444px"
      },
      "number_sections": false,
      "sideBar": true,
      "skip_h1_title": false,
      "title_cell": "Table of Contents",
      "title_sidebar": "Table of Contents",
      "toc_cell": false,
      "toc_position": {
        "height": "calc(100% - 180px)",
        "left": "10px",
        "top": "150px",
        "width": "299.2px"
      },
      "toc_section_display": true,
      "toc_window_display": true
    },
    "varInspector": {
      "cols": {
        "lenName": 16,
        "lenType": 16,
        "lenVar": 40
      },
      "kernels_config": {
        "python": {
          "delete_cmd_postfix": "",
          "delete_cmd_prefix": "del ",
          "library": "var_list.py",
          "varRefreshCmd": "print(var_dic_list())"
        },
        "r": {
          "delete_cmd_postfix": ") ",
          "delete_cmd_prefix": "rm(",
          "library": "var_list.r",
          "varRefreshCmd": "cat(var_dic_list()) "
        }
      },
      "position": {
        "height": "619.4px",
        "left": "1077px",
        "right": "20px",
        "top": "76px",
        "width": "456px"
      },
      "types_to_exclude": [
        "module",
        "function",
        "builtin_function_or_method",
        "instance",
        "_Feature"
      ],
      "window_display": false
    },
    "deepnote_notebook_id": "7218cddc-c6cd-4a23-8db2-23bc2f27a025",
    "deepnote_execution_queue": []
  },
  "cells": [
    {
      "cell_type": "markdown",
      "metadata": {
        "cell_id": "00000-1669c780-606b-4a6e-ab45-ea80c7b1627e",
        "output_cleared": false,
        "deepnote_cell_type": "markdown",
        "id": "C6ClgNqXx9rL"
      },
      "source": [
        "\n",
        "# NLP: Predicciendo la polaridad de reseñas usando Deep Learning"
      ]
    },
    {
      "cell_type": "markdown",
      "metadata": {
        "cell_id": "00001-4e858b7e-d70e-4320-a3df-3e73656c9b7f",
        "output_cleared": false,
        "deepnote_cell_type": "markdown",
        "id": "C9BqEzg3x9rT"
      },
      "source": [
        "La importancia de la satisfacción del cliente radica en que nos ayuda a saber la probabilidad de que un cliente haga una compra a futuro. Pedir a los clientes que califiquen el grado de satisfacción es una buena forma de ver si se convertirán en clientes habituales o incluso en defensores de la marca.\n",
        "\n",
        "En el presente proyecto interameos mejorar el accuracy obtenido en el proyecto anterior, en l que se probaorn algunas tecnica de machine learning tradicional. Sin embargo, la bibliografía apunta a que algunas arquitecturas de redes neuronales funcionan muy bien para procesamiento de lenguaje natural. Por tanto se plantea la siguiente hipotesis: ¿Utilizar un red neuronal de arquitecura LSTM mejorará el accuracy frente a un modelo de Linear SVC para los datos actuales?\n",
        "\n",
        "El proyecto anterior se puede encontrar aquí: [GitHub Repository](https://github.com/dewith/amazon-ratings)"
      ]
    },
    {
      "cell_type": "markdown",
      "metadata": {
        "id": "2GRQnxMzISE_",
        "cell_id": "00002-05b78136-94bd-4a8d-843e-159b9d6e2965",
        "output_cleared": false,
        "deepnote_cell_type": "markdown"
      },
      "source": [
        "<div class=\"alert alert-warning\">\n",
        "<b>The Multilingual Amazon Reviews Corpus</b> <br>\n",
        "Se puede acceder al dataset <a href=\"https://drive.google.com/uc?export=download&id=11XnXB7Ubgf3t6gotXGlM4FCwPOMHhDLX\">aquí</a>. Es un comprimido .zip que contiene tres archivos .json. Más información sobre el dataset <a href=\"https://registry.opendata.aws/amazon-reviews-ml/\">aquí</a>. Es importante que tengas en cuenta la <a href=\"https://docs.opendata.aws/amazon-reviews-ml/license.txt\">licencia</a> de este dataset.\n",
        "</div>"
      ]
    },
    {
      "cell_type": "markdown",
      "metadata": {
        "cell_id": "00004-69ec2be4-5638-4e4a-b152-25f3a45a7989",
        "output_cleared": false,
        "deepnote_cell_type": "markdown",
        "id": "Q5IeD8Hqx9rV"
      },
      "source": [
        "## 1. Preprocesado\n",
        "### 1.1 Importaciones y configuración "
      ]
    },
    {
      "cell_type": "markdown",
      "metadata": {
        "cell_id": "00005-82227e64-d2c5-433d-8d80-9505f4e9c35e",
        "output_cleared": false,
        "deepnote_cell_type": "markdown",
        "id": "Xj6WuQ5Nx9rV"
      },
      "source": [
        "Importamos las librerías necesarias"
      ]
    },
    {
      "cell_type": "code",
      "metadata": {
        "ExecuteTime": {
          "end_time": "2020-12-12T17:44:25.869574Z",
          "start_time": "2020-12-12T17:44:11.881899Z"
        },
        "id": "x1GFwraSISFB",
        "cell_id": "00006-d9785d30-186e-4ee5-b69f-debfbd9be97b",
        "output_cleared": false,
        "source_hash": "2e1f5616",
        "execution_millis": 5151,
        "execution_start": 1608343788186,
        "deepnote_cell_type": "code"
      },
      "source": [
        "''' Data manipulation '''\n",
        "import numpy as np\n",
        "import pandas as pd\n",
        "from scipy.sparse import csr_matrix, hstack\n",
        "\n",
        "''' Visualization '''\n",
        "import matplotlib.pyplot as plt\n",
        "import seaborn as sns\n",
        "%matplotlib inline \n",
        "\n",
        "''' NLP '''\n",
        "import re\n",
        "import nltk\n",
        "\n",
        "''' Machine Learning '''\n",
        "from sklearn.feature_extraction.text import TfidfVectorizer\n",
        "from sklearn.svm import LinearSVC\n",
        "from sklearn.metrics import accuracy_score, confusion_matrix, classification_report\n",
        "\n",
        "'''Deep Learning '''\n",
        "from keras import initializers, regularizers, constraints, optimizers, layers\n",
        "from keras.preprocessing.text import Tokenizer\n",
        "from keras.preprocessing.sequence import pad_sequences\n",
        "from keras.layers import Dense, Input, LSTM, Embedding, Dropout, Activation\n",
        "from keras.layers import Bidirectional, GlobalMaxPool1D\n",
        "from keras.models import Model\n",
        "from keras.utils import plot_model\n",
        "from plot_keras_history import plot_history\n",
        "\n",
        "''' Misc '''\n",
        "import sys, os, re, csv, codecs, gc\n",
        "from time import time"
      ],
      "execution_count": 1,
      "outputs": []
    },
    {
      "cell_type": "markdown",
      "metadata": {
        "ExecuteTime": {
          "end_time": "2020-09-13T20:35:46.789757Z",
          "start_time": "2020-09-13T20:35:46.779293Z"
        },
        "cell_id": "00007-23a88c8a-9fb4-40bc-a409-0335d6ea35f8",
        "output_cleared": false,
        "deepnote_cell_type": "markdown",
        "id": "q0fod8BCx9rW"
      },
      "source": [
        "Configuramos el estilo de los gráficos"
      ]
    },
    {
      "cell_type": "code",
      "metadata": {
        "ExecuteTime": {
          "end_time": "2020-12-12T17:44:25.900577Z",
          "start_time": "2020-12-12T17:44:25.872573Z"
        },
        "deletable": false,
        "editable": false,
        "cell_id": "00008-39299537-b512-4355-bec9-7f6e75329d24",
        "output_cleared": false,
        "source_hash": "eebe6aea",
        "execution_millis": 0,
        "execution_start": 1608343796827,
        "deepnote_cell_type": "code",
        "id": "oGuJjGeSx9rX"
      },
      "source": [
        "from matplotlib.colors import LinearSegmentedColormap\n",
        "\n",
        "# Palette\n",
        "blue = '#146EF5'\n",
        "red = '#ED3767'\n",
        "amber = '#F5B14C'\n",
        "mint = '#17BED1'\n",
        "purple = '#815ADB'\n",
        "pink = '#FE90AD'\n",
        "palette = [blue, red, pink, purple, amber, mint]\n",
        "\n",
        "# Sequential colormap\n",
        "\n",
        "redpink = LinearSegmentedColormap.from_list(\"myReds\", ['white', pink, red])\n",
        "redwhite = LinearSegmentedColormap.from_list(\"myReds\", ['white', red])\n",
        "bluewhite = LinearSegmentedColormap.from_list(\"myReds\", ['white', blue])\n",
        "\n",
        "\n",
        "params = {'axes.edgecolor': '0.9', 'axes.labelcolor': '0.4',\n",
        "          'text.color': '0.3', 'xtick.color': '0.5', 'ytick.color': '0.5',\n",
        "          'font.size': 16, 'axes.titlesize': 16, 'axes.labelsize': 12,\n",
        "          'xtick.labelsize': 12, 'ytick.labelsize': 12,\n",
        "          'figure.figsize': (9, 6), 'axes.spines.right': False, 'axes.spines.top': False}\n",
        "\n",
        "sns.set(context='notebook', style='white', palette=palette, rc=params)"
      ],
      "execution_count": 2,
      "outputs": []
    },
    {
      "cell_type": "markdown",
      "metadata": {
        "tags": [],
        "cell_id": "00008-9bb57402-8ef3-4a60-a477-7d803253ae6d",
        "output_cleared": false,
        "deepnote_cell_type": "markdown",
        "id": "T7PjNxuGx9rX"
      },
      "source": [
        ""
      ]
    },
    {
      "cell_type": "markdown",
      "metadata": {
        "cell_id": "00009-273e4046-c955-4510-8bde-02ff7e98c29e",
        "output_cleared": false,
        "deepnote_cell_type": "markdown",
        "id": "PyRK9fadx9rX"
      },
      "source": [
        "### 1.2 Carga de datos y preprocesamiento"
      ]
    },
    {
      "cell_type": "markdown",
      "metadata": {
        "cell_id": "00010-97c7a85e-c76e-433b-a4f1-9b028b3358b6",
        "output_cleared": false,
        "deepnote_cell_type": "markdown",
        "id": "i49prhuWx9rY"
      },
      "source": [
        "Cargamos los datos"
      ]
    },
    {
      "cell_type": "code",
      "metadata": {
        "ExecuteTime": {
          "end_time": "2020-12-12T17:49:09.888250Z",
          "start_time": "2020-12-12T17:49:07.979243Z"
        },
        "cell_id": "00011-92fe1eb0-044f-4d37-991c-9e41382ba2d1",
        "output_cleared": false,
        "source_hash": "23534a65",
        "execution_millis": 1490,
        "execution_start": 1608343799308,
        "deepnote_cell_type": "code",
        "id": "riwp7ugWx9rY"
      },
      "source": [
        "train = pd.read_csv('/content/train.csv')\n",
        "dev = pd.read_csv('/content/dev.csv')\n",
        "test = pd.read_csv('/content/test.csv')"
      ],
      "execution_count": 3,
      "outputs": []
    },
    {
      "cell_type": "code",
      "metadata": {
        "ExecuteTime": {
          "end_time": "2020-12-12T17:49:09.968256Z",
          "start_time": "2020-12-12T17:49:09.890251Z"
        },
        "cell_id": "00012-98aa4f59-8fd5-4951-b265-bfc3daa3a14d",
        "output_cleared": false,
        "source_hash": "2642c57d",
        "execution_millis": 2,
        "execution_start": 1608343801488,
        "deepnote_cell_type": "code",
        "id": "y-bg92rhx9rY"
      },
      "source": [
        "X_train = train[['full_text', 'clean_text']].copy()\n",
        "X_dev = dev[['full_text', 'clean_text']].copy()\n",
        "X_test = test[['full_text', 'clean_text']].copy()"
      ],
      "execution_count": 4,
      "outputs": []
    },
    {
      "cell_type": "code",
      "metadata": {
        "ExecuteTime": {
          "end_time": "2020-12-12T17:49:21.190921Z",
          "start_time": "2020-12-12T17:49:09.971259Z"
        },
        "cell_id": "00013-e80e9705-7245-4c37-930a-35fb37f18bc5",
        "output_cleared": false,
        "source_hash": "fc85e252",
        "execution_millis": 8333,
        "execution_start": 1608343806865,
        "deepnote_cell_type": "code",
        "id": "d60lrM_Mx9rZ"
      },
      "source": [
        "vectorizer = TfidfVectorizer(ngram_range=(1, 2), min_df=100, dtype=np.float32)\n",
        "\n",
        "train_ngrams =  vectorizer.fit_transform(X_train['clean_text'])\n",
        "dev_ngrams = vectorizer.transform(X_dev['clean_text'])\n",
        "test_ngrams = vectorizer.transform(X_test['clean_text'])\n",
        "\n",
        "# Obtenemos los nombres de las features\n",
        "features_ngrams = np.array(vectorizer.get_feature_names())"
      ],
      "execution_count": 5,
      "outputs": []
    },
    {
      "cell_type": "markdown",
      "metadata": {
        "cell_id": "00014-47a0bd88-ca00-4fb3-81fc-d44ff99e426d",
        "output_cleared": false,
        "deepnote_cell_type": "markdown",
        "id": "LNhbd7CQx9rZ"
      },
      "source": [
        "Ahora extraemos las features indirectas:\n",
        "mean_word_len,\n",
        "count_stopwords,\n",
        "word_unique_percent,\n",
        "count_word, count_letters,\n",
        "count_unique_word."
      ]
    },
    {
      "cell_type": "code",
      "metadata": {
        "ExecuteTime": {
          "end_time": "2020-12-12T17:49:21.206925Z",
          "start_time": "2020-12-12T17:49:21.193923Z"
        },
        "cell_id": "00015-88ddbb55-0004-409a-97ca-0cbd56f8b484",
        "output_cleared": false,
        "source_hash": "b2e1244b",
        "execution_millis": 35,
        "execution_start": 1608343819123,
        "deepnote_cell_type": "code",
        "colab": {
          "base_uri": "https://localhost:8080/"
        },
        "id": "egA5CVuVx9rZ",
        "outputId": "e5626f06-d77e-4c2e-d43a-8e26c6f0e46c"
      },
      "source": [
        "try:\n",
        "  stopword_list = nltk.corpus.stopwords.words('spanish')\n",
        "except:\n",
        "  nltk.download('stopwords')\n",
        "  stopword_list = nltk.corpus.stopwords.words('spanish')"
      ],
      "execution_count": 6,
      "outputs": [
        {
          "output_type": "stream",
          "text": [
            "[nltk_data] Downloading package stopwords to /root/nltk_data...\n",
            "[nltk_data]   Unzipping corpora/stopwords.zip.\n"
          ],
          "name": "stdout"
        }
      ]
    },
    {
      "cell_type": "code",
      "metadata": {
        "ExecuteTime": {
          "end_time": "2020-12-12T17:49:49.275602Z",
          "start_time": "2020-12-12T17:49:21.210928Z"
        },
        "cell_id": "00016-2bce53bb-0fb9-4e77-ac2a-7fa22ce3f306",
        "output_cleared": false,
        "source_hash": "1da9449d",
        "execution_millis": 23709,
        "execution_start": 1608339218318,
        "deepnote_cell_type": "code",
        "id": "Xcd2eI3Bx9rb"
      },
      "source": [
        "train_indirect = pd.DataFrame()\n",
        "train_indirect['count_word'] = X_train['full_text'].apply(lambda x: len(str(x).split()))\n",
        "train_indirect['count_letters'] = X_train['full_text'].apply(lambda x: len(str(x)))\n",
        "train_indirect['count_unique_word'] = X_train['full_text'].apply(lambda x: len(set(str(x).split())))\n",
        "train_indirect[\"count_stopwords\"] = X_train[\"full_text\"].apply(lambda x: len([w for w in str(x).lower().split() if w in stopword_list]))\n",
        "train_indirect[\"mean_word_len\"] = X_train[\"full_text\"].apply(lambda x: np.mean([len(w) for w in str(x).split()]))\n",
        "train_indirect['word_unique_percent'] = train_indirect['count_unique_word']*100/train_indirect['count_word']"
      ],
      "execution_count": 7,
      "outputs": []
    },
    {
      "cell_type": "code",
      "metadata": {
        "ExecuteTime": {
          "end_time": "2020-12-12T17:49:49.893471Z",
          "start_time": "2020-12-12T17:49:49.277621Z"
        },
        "cell_id": "00017-7a657c51-0720-4ba4-a9c1-62a877002aee",
        "output_cleared": false,
        "source_hash": "e724659e",
        "execution_millis": 559,
        "execution_start": 1608339242076,
        "deepnote_cell_type": "code",
        "id": "OweqbhOfx9rb"
      },
      "source": [
        "dev_indirect = pd.DataFrame()\n",
        "dev_indirect['count_word'] = X_dev['full_text'].apply(lambda x: len(str(x).split()))\n",
        "dev_indirect['count_letters'] = X_dev['full_text'].apply(lambda x: len(str(x)))\n",
        "dev_indirect['count_unique_word'] = X_dev['full_text'].apply(lambda x: len(set(str(x).split())))\n",
        "dev_indirect[\"count_stopwords\"] = X_dev[\"full_text\"].apply(lambda x: len([w for w in str(x).lower().split() if w in stopword_list]))\n",
        "dev_indirect[\"mean_word_len\"] = X_dev[\"full_text\"].apply(lambda x: np.mean([len(w) for w in str(x).split()]))\n",
        "dev_indirect['word_unique_percent'] = dev_indirect['count_unique_word']*100/dev_indirect['count_word']"
      ],
      "execution_count": 8,
      "outputs": []
    },
    {
      "cell_type": "code",
      "metadata": {
        "ExecuteTime": {
          "end_time": "2020-12-12T17:49:50.556745Z",
          "start_time": "2020-12-12T17:49:49.895477Z"
        },
        "cell_id": "00018-8461ddcf-3ec6-4c6d-8ed4-6634cfac201e",
        "output_cleared": false,
        "source_hash": "7cce8359",
        "execution_millis": 547,
        "execution_start": 1608339242690,
        "deepnote_cell_type": "code",
        "id": "BCE8U64ux9rb"
      },
      "source": [
        "test_indirect = pd.DataFrame()\n",
        "test_indirect['count_word'] = X_test['full_text'].apply(lambda x: len(str(x).split()))\n",
        "test_indirect['count_letters'] = X_test['full_text'].apply(lambda x: len(str(x)))\n",
        "test_indirect['count_unique_word'] = X_test['full_text'].apply(lambda x: len(set(str(x).split())))\n",
        "test_indirect[\"count_stopwords\"] = X_test[\"full_text\"].apply(lambda x: len([w for w in str(x).lower().split() if w in stopword_list]))\n",
        "test_indirect[\"mean_word_len\"] = X_test[\"full_text\"].apply(lambda x: np.mean([len(w) for w in str(x).split()]))\n",
        "test_indirect['word_unique_percent'] = test_indirect['count_unique_word']*100/test_indirect['count_word']"
      ],
      "execution_count": 9,
      "outputs": []
    },
    {
      "cell_type": "markdown",
      "metadata": {
        "cell_id": "00019-3d199823-e970-4902-89ea-28a03405d8b6",
        "output_cleared": false,
        "deepnote_cell_type": "markdown",
        "id": "W9C1ja6Nx9rc"
      },
      "source": [
        "Leemos los datasets de polaridad"
      ]
    },
    {
      "cell_type": "code",
      "metadata": {
        "ExecuteTime": {
          "end_time": "2020-12-12T17:49:50.684422Z",
          "start_time": "2020-12-12T17:49:50.559748Z"
        },
        "cell_id": "00020-5330f029-49cb-4802-8ef0-a285df2b8e56",
        "output_cleared": false,
        "source_hash": "6326694a",
        "execution_millis": 64,
        "execution_start": 1608339243242,
        "deepnote_cell_type": "code",
        "id": "zNZ2olAXx9rd"
      },
      "source": [
        "train_polarity = pd.read_csv('/content/train_polarity.csv')\n",
        "dev_polarity = pd.read_csv('/content/dev_polarity.csv')\n",
        "test_polarity = pd.read_csv('/content/test_polarity.csv')"
      ],
      "execution_count": 10,
      "outputs": []
    },
    {
      "cell_type": "markdown",
      "metadata": {
        "cell_id": "00021-9be0da06-9273-4e7c-afa9-ae4a98557ee6",
        "output_cleared": false,
        "deepnote_cell_type": "markdown",
        "id": "NTgvl9srx9rd"
      },
      "source": [
        "Solo falta juntar todas las features en un matriz dispersa"
      ]
    },
    {
      "cell_type": "code",
      "metadata": {
        "ExecuteTime": {
          "end_time": "2020-12-12T17:49:51.097946Z",
          "start_time": "2020-12-12T17:49:50.687423Z"
        },
        "cell_id": "00022-1851814c-7419-4673-9c92-b68118a5a330",
        "output_cleared": false,
        "source_hash": "e48d0ab3",
        "execution_millis": 253,
        "execution_start": 1608343188723,
        "deepnote_cell_type": "code",
        "id": "fp5W4xGcx9rd"
      },
      "source": [
        "X_train = hstack((train_ngrams, train_indirect,  train_polarity)).tocsr()\n",
        "X_dev = hstack((dev_ngrams, dev_indirect,  dev_polarity)).tocsr()\n",
        "X_test = hstack((test_ngrams, test_indirect,  test_polarity)).tocsr()"
      ],
      "execution_count": 11,
      "outputs": []
    },
    {
      "cell_type": "markdown",
      "metadata": {
        "cell_id": "00031-31b45056-4104-4e60-812f-35976d0b6064",
        "output_cleared": false,
        "deepnote_cell_type": "markdown",
        "id": "WVwqtqErx9rd"
      },
      "source": [
        "## 2. Modelado \n",
        "El proyecto pasado explicamos que el problema requiere ser abordado como una tarea de clasificación binaria puesto que los datos no permiten obtener una gran exactitud al predecir 5 clases.\n",
        "Por ello, ahora trataremos de mejorar el accuracy obtenido con Linear SVC (0.86 en el set de validación) con un arquitectura de redes neuronales."
      ]
    },
    {
      "cell_type": "markdown",
      "metadata": {
        "cell_id": "00042-c2ace282-15b9-425e-bac5-3cc5fff41fa1",
        "output_cleared": false,
        "deepnote_cell_type": "markdown",
        "id": "D78InKiAx9re"
      },
      "source": [
        "### 2.1 Linear SVC (benchmark)\n",
        "Predecimos manteniendo solo 2 clases: negativo y postivo (convirtiendo las reviews con 3 estrellas en _negativo_)"
      ]
    },
    {
      "cell_type": "code",
      "metadata": {
        "ExecuteTime": {
          "end_time": "2020-12-12T17:51:03.893030Z",
          "start_time": "2020-12-12T17:51:03.771024Z"
        },
        "cell_id": "00053-7fc0adba-2f26-47ad-ba2b-a7b692d41073",
        "output_cleared": false,
        "source_hash": "98c3dcd0",
        "execution_millis": 22,
        "execution_start": 1608343834139,
        "deepnote_cell_type": "code",
        "id": "JQIKG6aUx9re"
      },
      "source": [
        "def binarize(x):\n",
        "    if x == 4 or x == 5:\n",
        "        return 1\n",
        "    else:\n",
        "        return 0\n",
        "    \n",
        "y_train = train['stars'].apply(binarize)\n",
        "y_dev = dev['stars'].apply(binarize)\n",
        "y_test = test['stars'].apply(binarize)"
      ],
      "execution_count": 12,
      "outputs": []
    },
    {
      "cell_type": "code",
      "metadata": {
        "ExecuteTime": {
          "end_time": "2020-12-12T17:51:09.100257Z",
          "start_time": "2020-12-12T17:51:03.896033Z"
        },
        "cell_id": "00054-c789389e-87be-4c52-92de-a0d59b594687",
        "output_cleared": false,
        "source_hash": "419a1a7f",
        "execution_millis": 5158,
        "execution_start": 1608339243687,
        "deepnote_cell_type": "code",
        "colab": {
          "base_uri": "https://localhost:8080/"
        },
        "id": "qqT1Na-Xx9re",
        "outputId": "dc7e0b21-afad-4fb5-eb8f-1eb67167b516"
      },
      "source": [
        "svc = LinearSVC(penalty='l2', dual=False, tol=1e-4, C=0.01)\n",
        "\n",
        "svc.fit(X_train, y_train)\n",
        "\n",
        "y_train_pred_svc = svc.predict(X_train)\n",
        "y_dev_pred_svc = svc.predict(X_dev)\n",
        "y_test_pred_svc = svc.predict(X_test)\n",
        "\n",
        "print('Accuracy en el set de Train:', accuracy_score(y_train, y_train_pred_svc))\n",
        "print('Accuracy en el set de Dev:', accuracy_score(y_dev, y_dev_pred_svc))\n",
        "print('Accuracy en el set de Test:', accuracy_score(y_test, y_test_pred_svc), '<---')"
      ],
      "execution_count": 13,
      "outputs": [
        {
          "output_type": "stream",
          "text": [
            "Accuracy en el set de Train: 0.869985\n",
            "Accuracy en el set de Dev: 0.869\n",
            "Accuracy en el set de Test: 0.8646 <---\n"
          ],
          "name": "stdout"
        }
      ]
    },
    {
      "cell_type": "code",
      "metadata": {
        "ExecuteTime": {
          "end_time": "2020-12-12T17:51:09.431559Z",
          "start_time": "2020-12-12T17:51:09.103259Z"
        },
        "cell_id": "00055-bbc21694-989e-492a-9627-2bd7e35410b5",
        "output_cleared": false,
        "source_hash": "8eb9e1b",
        "execution_millis": 307,
        "execution_start": 1608339248858,
        "deepnote_cell_type": "code",
        "colab": {
          "base_uri": "https://localhost:8080/",
          "height": 360
        },
        "id": "F-iyPregx9rf",
        "outputId": "07015959-03ca-490f-e9aa-2ec463245d07"
      },
      "source": [
        "plt.figure(figsize=(6, 5))\n",
        "conf_sent = confusion_matrix(y_test, y_test_pred_svc, \n",
        "                             labels=[0, 1], \n",
        "                             normalize='true')\n",
        "sns.heatmap(data = conf_sent, cbar=True, square=True, annot=True, \n",
        "            fmt= '.2f', annot_kws={'size': 13}, \n",
        "            xticklabels= ['Neg-', 'Pos+'], \n",
        "            yticklabels=['Neg-', 'Pos+'], \n",
        "            cmap=redpink)\n",
        "\n",
        "plt.title('Matriz de confusión', pad=16)\n",
        "plt.ylabel('Reales')\n",
        "plt.xlabel('Predichos')\n",
        "plt.xticks(rotation = 0)\n",
        "plt.yticks(rotation = 0)\n",
        "plt.tight_layout()\n",
        "plt.show()"
      ],
      "execution_count": 14,
      "outputs": [
        {
          "output_type": "display_data",
          "data": {
            "image/png": "[encoded data removed]",
            "text/plain": [
              "<Figure size 432x360 with 2 Axes>"
            ]
          },
          "metadata": {
            "tags": []
          }
        }
      ]
    },
    {
      "cell_type": "markdown",
      "metadata": {
        "tags": [],
        "cell_id": "00030-16d04bf9-20d3-4f56-bb51-5e98c1c9eccb",
        "deepnote_cell_type": "markdown",
        "id": "2lenpm0Vx9rf"
      },
      "source": [
        "#### 2.1.2 Neural Network"
      ]
    },
    {
      "cell_type": "markdown",
      "metadata": {
        "tags": [],
        "cell_id": "00029-6453761e-636f-4b01-ae2c-0df12ffc9327",
        "deepnote_cell_type": "markdown",
        "id": "V-pn5ILmx9rg"
      },
      "source": [
        "El enfoque que utilizaremos será crear una red neuronal usando la arquitecura LSTM, la que alimentaremos usando el texto limpio que ya\n",
        "prepocesamos en el notebook del proyecto anterior."
      ]
    },
    {
      "cell_type": "code",
      "metadata": {
        "tags": [],
        "cell_id": "00037-8c4b2acd-5f33-4c27-8b95-3cc661bf0ad1",
        "output_cleared": false,
        "source_hash": "649e828f",
        "execution_millis": 0,
        "execution_start": 1608339274671,
        "deepnote_cell_type": "code",
        "id": "dQIZM2wlx9rg"
      },
      "source": [
        "# Extraemos la lista de los comentarios para cada set\n",
        "list_sentences_train = train['clean_text']\n",
        "list_sentences_dev = dev['clean_text']\n",
        "list_sentences_test = test['clean_text']"
      ],
      "execution_count": 15,
      "outputs": []
    },
    {
      "cell_type": "code",
      "metadata": {
        "tags": [],
        "cell_id": "00031-fea51b89-6a32-4923-a581-a20620ae566e",
        "output_cleared": false,
        "source_hash": "f3d651ff",
        "execution_millis": 2,
        "execution_start": 1608339277360,
        "deepnote_cell_type": "code",
        "id": "iY_NYYPsx9rh"
      },
      "source": [
        "#d={1:'Neg', 2:'Neg', 3: 'Neg', 4:'Pos', 5:'Pos'}\n",
        "#y_train = pd.get_dummies(train['stars'].apply(lambda x:d[x]))\n",
        "#y_dev = pd.get_dummies(dev['stars'].apply(lambda x:d[x]))\n",
        "#y_test = pd.get_dummies(test['stars'].apply(lambda x:d[x]))"
      ],
      "execution_count": 16,
      "outputs": []
    },
    {
      "cell_type": "markdown",
      "metadata": {
        "tags": [],
        "cell_id": "00031-1faeb065-0509-49a1-8189-01c8b6952a54",
        "deepnote_cell_type": "markdown",
        "id": "WPg5B7hex9rh"
      },
      "source": [
        "Para transformar el corpus en números que la red pueda entender haremos esto: lo que vamos a hacer:\n",
        "\n",
        "1. **Tokenización:** Necesitamos descomponer la frase en palabras únicas.\n",
        "2. **Indexación:** Ponemos las palabras en una estructura similar a un diccionario y les damos un índice a cada una.\n",
        "3. **Representación del índice:** Representamos la secuencia de palabras en los comentarios en forma de índice, y alimentar esta cadena de índices en nuestro LSTM."
      ]
    },
    {
      "cell_type": "code",
      "metadata": {
        "tags": [],
        "cell_id": "00038-61fd9cfd-bfbb-4552-8b81-596c6a3e79a4",
        "output_cleared": false,
        "source_hash": "e594cc9f",
        "execution_millis": 7014,
        "execution_start": 1608339285526,
        "deepnote_cell_type": "code",
        "id": "FSpYJ6Mjx9rh"
      },
      "source": [
        "# Definimos el número máximo de features como 5000 porque fue la cantidad con mejores resultados\n",
        "max_features = 5000\n",
        "tokenizer = Tokenizer(num_words=max_features)\n",
        "tokenizer.fit_on_texts(list(list_sentences_train))\n",
        "\n",
        "list_tokenized_train = tokenizer.texts_to_sequences(list_sentences_train)\n",
        "list_tokenized_dev = tokenizer.texts_to_sequences(list_sentences_dev)\n",
        "list_tokenized_test = tokenizer.texts_to_sequences(list_sentences_test)"
      ],
      "execution_count": 17,
      "outputs": []
    },
    {
      "cell_type": "markdown",
      "metadata": {
        "tags": [],
        "cell_id": "00034-327ed76a-4d5a-4a55-8ae8-562aa04352f6",
        "deepnote_cell_type": "markdown",
        "id": "yuuSu1h4x9rh"
      },
      "source": [
        "Ahora visualizaremos la distribución de la longitud de los comentarios para poder definir una logitud máxima adecuada."
      ]
    },
    {
      "cell_type": "code",
      "metadata": {
        "tags": [],
        "cell_id": "00039-8b029bd2-83a0-43f6-b683-8a8b1f09360e",
        "output_cleared": false,
        "source_hash": "633673b0",
        "execution_millis": 971,
        "execution_start": 1608339293680,
        "deepnote_cell_type": "code",
        "colab": {
          "base_uri": "https://localhost:8080/",
          "height": 380
        },
        "id": "lUaL4vyGx9ri",
        "outputId": "adf26a9e-0f8a-4d9a-94e2-6f03069fed57"
      },
      "source": [
        "totalNumWords = [len(one_comment) for one_comment in list_tokenized_train]\n",
        "plt.hist(totalNumWords, bins=np.arange(0,100,5), color=red)\n",
        "plt.show()"
      ],
      "execution_count": 18,
      "outputs": [
        {
          "output_type": "display_data",
          "data": {
            "image/png": "[encoded data removed]",
            "text/plain": [
              "<Figure size 648x432 with 1 Axes>"
            ]
          },
          "metadata": {
            "tags": []
          }
        }
      ]
    },
    {
      "cell_type": "markdown",
      "metadata": {
        "tags": [],
        "cell_id": "00036-70aa062e-28d4-48ba-85b8-d7695a0a1dd9",
        "deepnote_cell_type": "markdown",
        "id": "1hRrBUbgx9ri"
      },
      "source": [
        "Podemos observar que la mayoría de las reviews tiene menos de 60 tokens, así que podemos este número para tener un rago confiable y que no pierda información . "
      ]
    },
    {
      "cell_type": "code",
      "metadata": {
        "tags": [],
        "cell_id": "00040-7d7c6cb4-e2f3-4008-b954-68c1cc49a7fc",
        "output_cleared": false,
        "source_hash": "8323d750",
        "execution_millis": 928,
        "execution_start": 1608339308159,
        "deepnote_cell_type": "code",
        "id": "NDw-7PMQx9ri"
      },
      "source": [
        "maxlen = 60\n",
        "X_tr = pad_sequences(list_tokenized_train, maxlen=maxlen)\n",
        "X_de = pad_sequences(list_tokenized_dev, maxlen=maxlen)\n",
        "X_te = pad_sequences(list_tokenized_test, maxlen=maxlen)"
      ],
      "execution_count": 20,
      "outputs": []
    },
    {
      "cell_type": "markdown",
      "metadata": {
        "tags": [],
        "cell_id": "00039-608b9e63-6b90-4bc3-b61e-ddd5b0067c6e",
        "deepnote_cell_type": "markdown",
        "id": "uReFBQ7ox9rj"
      },
      "source": [
        "**Ahora empezamos a construir el modelo**\n",
        "\n",
        "Esta es la arquitectura del modelo que estamos tratando de construir.\n",
        "\n",
        "![](https://i.imgur.com/aZzxWpA.png)\n"
      ]
    },
    {
      "cell_type": "markdown",
      "metadata": {
        "tags": [],
        "cell_id": "00039-84b71556-67d7-41f3-bd97-a67771480852",
        "deepnote_cell_type": "markdown",
        "id": "EkYqQpLjx9rj"
      },
      "source": [
        "Definimos el capa input con el número máximos de dimensiones que definimos antes"
      ]
    },
    {
      "cell_type": "code",
      "metadata": {
        "tags": [],
        "cell_id": "00039-1ecfbe08-2a62-41af-919e-437cdb2440c6",
        "output_cleared": false,
        "source_hash": "4d9bef1a",
        "execution_millis": 1,
        "execution_start": 1608339315183,
        "deepnote_cell_type": "code",
        "id": "UEpxlKvpx9rj"
      },
      "source": [
        "inp = Input(shape=(maxlen, )) #Dejamos el espacio en blanco despues de la coma para que Keras lo infiera"
      ],
      "execution_count": 21,
      "outputs": []
    },
    {
      "cell_type": "markdown",
      "metadata": {
        "tags": [],
        "cell_id": "00041-c4139bae-4f94-433f-bd45-990c986c1651",
        "deepnote_cell_type": "markdown",
        "id": "lIyYAMCWx9rj"
      },
      "source": [
        "En nuestra capa de embedding "
      ]
    },
    {
      "cell_type": "code",
      "metadata": {
        "tags": [],
        "cell_id": "00042-e5d6f77e-b7c9-4d24-8b4a-3ffc393d6462",
        "output_cleared": false,
        "source_hash": "3f348805",
        "execution_millis": 6,
        "execution_start": 1608339321811,
        "deepnote_cell_type": "code",
        "id": "o3N6YmdKx9rj"
      },
      "source": [
        "embed_size = 120\n",
        "x = Embedding(max_features, embed_size)(inp)"
      ],
      "execution_count": 22,
      "outputs": []
    },
    {
      "cell_type": "markdown",
      "metadata": {
        "tags": [],
        "cell_id": "00043-c3986c0d-1016-4330-9444-784df5dc12da",
        "deepnote_cell_type": "markdown",
        "id": "VNhit80Yx9rk"
      },
      "source": [
        "A continuación alimentamos este Tensor a la capa del LSTM. Las arquitecturas basadas en redes neuronales \n",
        "recurrentes funcionan alimentando recursivamente el output de una red anterior en la entrada de la red actual, \n",
        "y tomarías la salida final después de X número de recursividad. \n",
        "Pero dependiendo del caso, se podría querer tomar las salidas de cada recursividad como resultado \n",
        "para pasar a la siguiente capa, como en este caso.\n",
        "\n",
        "La capa de embedding nos proporciona un tensor 3D de (-, 50, 100) que usaremos dentro de la capa de LSTM. \n",
        "Que lo que hará será pasar a través de las muestras, ejecutar recursivamente el modelo LSTM durante 50 veces, \n",
        "pasando las coordenadas de las palabras cada vez. Y como queremos la versión desenrollada, \n",
        "recibiremos una tensor de shape (None, 50, 60), donde 60 es el número de secuencias que correra la capa de LSTM."
      ]
    },
    {
      "cell_type": "code",
      "metadata": {
        "tags": [],
        "cell_id": "00044-2ac5a12d-b5e7-4077-bf87-a81889972df7",
        "output_cleared": false,
        "source_hash": "77dbd802",
        "execution_millis": 141,
        "execution_start": 1608339332327,
        "deepnote_cell_type": "code",
        "id": "5ha1y3jrx9rk"
      },
      "source": [
        "x = LSTM(50, return_sequences=True, name='lstm_layer')(x)"
      ],
      "execution_count": 23,
      "outputs": []
    },
    {
      "cell_type": "markdown",
      "metadata": {
        "tags": [],
        "cell_id": "00045-66b39af4-5485-4c7d-9ff5-be050879e680",
        "deepnote_cell_type": "markdown",
        "id": "m8O2YU79x9rk"
      },
      "source": [
        "Antes de que podamos pasar el output a una capa normal, necesitamos convertir el tensor 3D en uno 2D. \n",
        "Por lo tanto, usamos una capa de Global Max Pooling que normalmente se usa en problemas CNN para \n",
        "reducir la dimensionalidad de imagenes. Esta capa revisará cada pieza de datos, y\n",
        "tomará los valores máximos de cada una. Y será esta colección de valores máximos nuestro\n",
        "conjunto de datos que utilizares en las capas siguientes."
      ]
    },
    {
      "cell_type": "code",
      "metadata": {
        "tags": [],
        "cell_id": "00046-eaef417e-d9f0-4b9e-9f98-7c8794887a49",
        "output_cleared": false,
        "source_hash": "69a51d9c",
        "execution_millis": 3,
        "execution_start": 1608339333639,
        "deepnote_cell_type": "code",
        "id": "Y4ZJFOU4x9rk"
      },
      "source": [
        "x = GlobalMaxPool1D()(x)"
      ],
      "execution_count": 24,
      "outputs": []
    },
    {
      "cell_type": "markdown",
      "metadata": {
        "tags": [],
        "cell_id": "00047-ba01356c-172f-4b52-8a98-3e20ae4784d1",
        "deepnote_cell_type": "markdown",
        "id": "fHeyTvLAx9rk"
      },
      "source": [
        "Este Tensor 2D generado lo pasamos a una capa de Dropout que deshabilita arbitrariamente algunos nodos \n",
        "para que toda la red pueda resultar en una mejor generalización.\n",
        "\n",
        "Configuramos un droput del 15%."
      ]
    },
    {
      "cell_type": "code",
      "metadata": {
        "tags": [],
        "cell_id": "00048-1ce57289-138d-494f-b59c-e8a2294f6104",
        "output_cleared": false,
        "source_hash": "8d64d8c3",
        "execution_start": 1608337803717,
        "execution_millis": 0,
        "deepnote_cell_type": "code",
        "id": "i6zyMLBux9rl"
      },
      "source": [
        "x = Dropout(0.15)(x)"
      ],
      "execution_count": 25,
      "outputs": []
    },
    {
      "cell_type": "markdown",
      "metadata": {
        "tags": [],
        "cell_id": "00049-aa1b54ff-a308-4c5a-89ec-396a453d5bf0",
        "deepnote_cell_type": "markdown",
        "id": "CQhAHWJJx9rl"
      },
      "source": [
        "Después de una capa de dropout conectamos una capa densamente conectada y la salida pasa a través de \n",
        "una función RELU. Hemos definido la capa densa para producir una dimensión de salida de 50."
      ]
    },
    {
      "cell_type": "code",
      "metadata": {
        "tags": [],
        "cell_id": "00050-0eec08ac-7460-4784-a381-b401c56d4b14",
        "output_cleared": false,
        "source_hash": "51af1453",
        "execution_start": 1608337803718,
        "execution_millis": 0,
        "deepnote_cell_type": "code",
        "id": "7w4ssXfFx9rl"
      },
      "source": [
        "x = Dense(10, activation=\"relu\")(x)"
      ],
      "execution_count": 26,
      "outputs": []
    },
    {
      "cell_type": "markdown",
      "metadata": {
        "tags": [],
        "cell_id": "00051-9eb7b35b-c9c9-4bdb-b792-0cf19b3f3cb3",
        "deepnote_cell_type": "markdown",
        "id": "Lhpe1p9ix9rl"
      },
      "source": [
        "Añadimos otra capa de dropout"
      ]
    },
    {
      "cell_type": "code",
      "metadata": {
        "tags": [],
        "cell_id": "00052-4d971de8-b663-41d3-8a81-54d0663d8d2e",
        "output_cleared": false,
        "source_hash": "94152e3a",
        "execution_millis": 0,
        "execution_start": 1608339362907,
        "deepnote_cell_type": "code",
        "id": "Y1BIqN_cx9rl"
      },
      "source": [
        "x = Dropout(0.15)(x)"
      ],
      "execution_count": 27,
      "outputs": []
    },
    {
      "cell_type": "markdown",
      "metadata": {
        "tags": [],
        "cell_id": "00053-4582f582-2a64-4643-b8b0-4d340617eba2",
        "deepnote_cell_type": "markdown",
        "id": "Io1jc-lRx9rm"
      },
      "source": [
        "Y, finalmente, el output los generará una capa con activación sigmoide para lograr una clasificación \n",
        "binaria(1,0) para cada una de las 2 etiquetas."
      ]
    },
    {
      "cell_type": "code",
      "metadata": {
        "tags": [],
        "cell_id": "00054-e335a282-8d68-4058-b9c7-6f77067a0636",
        "output_cleared": false,
        "source_hash": "1bf86c26",
        "execution_millis": 7,
        "execution_start": 1608339374568,
        "deepnote_cell_type": "code",
        "id": "i7gF450Vx9rm"
      },
      "source": [
        "x = Dense(1, activation=\"sigmoid\")(x)"
      ],
      "execution_count": 28,
      "outputs": []
    },
    {
      "cell_type": "markdown",
      "metadata": {
        "tags": [],
        "cell_id": "00055-73ed9554-a349-440a-945a-de6ce167bfa3",
        "deepnote_cell_type": "markdown",
        "id": "fawcq0OJx9rm"
      },
      "source": [
        "Solo queda definir las entradas, salidas y configurar el proceso de aprendizaje de la red. \n",
        "Hemos establecido nuestro modelo para optimizar nuestra función de pérdida usando \n",
        "el optimizador Adam, definiendo la función de pérdida como \"binary_crossentropy\" ya \n",
        "que estamos abordando una clasificación binaria."
      ]
    },
    {
      "cell_type": "code",
      "metadata": {
        "tags": [],
        "cell_id": "00056-d521a2fb-ed68-48c7-8a73-ba4133831e0e",
        "output_cleared": false,
        "source_hash": "7ee2e08",
        "execution_millis": 7,
        "execution_start": 1608339383670,
        "deepnote_cell_type": "code",
        "id": "j4jG9k6-x9ro"
      },
      "source": [
        "model = Model(inputs=inp, outputs=x)\n",
        "model.compile(loss='binary_crossentropy',\n",
        "                        optimizer='sgd',\n",
        "                        metrics=['accuracy'])"
      ],
      "execution_count": 30,
      "outputs": []
    },
    {
      "cell_type": "markdown",
      "metadata": {
        "tags": [],
        "cell_id": "00059-97cc0dc5-c721-4567-a4b8-6c3e24bcaf35",
        "deepnote_cell_type": "markdown",
        "id": "KycRqrYnx9ro"
      },
      "source": [
        "Imprimimos un resumen del modelo"
      ]
    },
    {
      "cell_type": "code",
      "metadata": {
        "tags": [],
        "cell_id": "00060-725bc4ce-50a8-4f8d-b2ad-a9b56a5255cc",
        "output_cleared": false,
        "source_hash": "4e6a3b95",
        "execution_millis": 0,
        "execution_start": 1608339467755,
        "deepnote_cell_type": "code",
        "colab": {
          "base_uri": "https://localhost:8080/"
        },
        "id": "PhW8Ur0Qx9ro",
        "outputId": "828d6963-da10-48c9-d103-aebb11cc749a"
      },
      "source": [
        "model.summary()"
      ],
      "execution_count": 31,
      "outputs": [
        {
          "output_type": "stream",
          "text": [
            "Model: \"model_1\"\n",
            "_________________________________________________________________\n",
            "Layer (type)                 Output Shape              Param #   \n",
            "=================================================================\n",
            "input_1 (InputLayer)         [(None, 60)]              0         \n",
            "_________________________________________________________________\n",
            "embedding (Embedding)        (None, 60, 120)           600000    \n",
            "_________________________________________________________________\n",
            "lstm_layer (LSTM)            (None, 60, 50)            34200     \n",
            "_________________________________________________________________\n",
            "global_max_pooling1d (Global (None, 50)                0         \n",
            "_________________________________________________________________\n",
            "dropout (Dropout)            (None, 50)                0         \n",
            "_________________________________________________________________\n",
            "dense (Dense)                (None, 10)                510       \n",
            "_________________________________________________________________\n",
            "dropout_1 (Dropout)          (None, 10)                0         \n",
            "_________________________________________________________________\n",
            "dense_1 (Dense)              (None, 1)                 11        \n",
            "=================================================================\n",
            "Total params: 634,721\n",
            "Trainable params: 634,721\n",
            "Non-trainable params: 0\n",
            "_________________________________________________________________\n"
          ],
          "name": "stdout"
        }
      ]
    },
    {
      "cell_type": "markdown",
      "metadata": {
        "tags": [],
        "cell_id": "00057-ea126b17-5abf-4471-9e47-0b54a805eb7b",
        "deepnote_cell_type": "markdown",
        "id": "Ys8EWysvx9rp"
      },
      "source": [
        "Ahora corremos nuestro modelo"
      ]
    },
    {
      "cell_type": "code",
      "metadata": {
        "tags": [],
        "cell_id": "00058-0963366a-7e31-4beb-a963-0738c09172bc",
        "output_cleared": false,
        "source_hash": "20f2ec03",
        "execution_millis": 688358,
        "execution_start": 1608339485103,
        "deepnote_cell_type": "code",
        "colab": {
          "base_uri": "https://localhost:8080/"
        },
        "id": "_Vh5QUNQx9rp",
        "outputId": "d3e26430-c2c3-4f9a-9262-4a01e114724c"
      },
      "source": [
        "batch_size = 100\n",
        "epochs = 30\n",
        "model.fit(X_tr, y_train, \n",
        "          batch_size=batch_size, \n",
        "          validation_data=(X_de, y_dev),\n",
        "          epochs=epochs, validation_split=0.1)"
      ],
      "execution_count": 33,
      "outputs": [
        {
          "output_type": "stream",
          "text": [
            "Epoch 1/30\n",
            "1800/1800 [==============================] - 96s 53ms/step - loss: 0.6502 - accuracy: 0.6630 - val_loss: 1.0924 - val_accuracy: 0.0000e+00\n",
            "Epoch 2/30\n",
            "1800/1800 [==============================] - 92s 51ms/step - loss: 0.6363 - accuracy: 0.6657 - val_loss: 1.0787 - val_accuracy: 0.0000e+00\n",
            "Epoch 3/30\n",
            "1800/1800 [==============================] - 92s 51ms/step - loss: 0.6320 - accuracy: 0.6668 - val_loss: 1.0704 - val_accuracy: 0.0000e+00\n",
            "Epoch 4/30\n",
            "1800/1800 [==============================] - 94s 52ms/step - loss: 0.6202 - accuracy: 0.6665 - val_loss: 1.0084 - val_accuracy: 0.0000e+00\n",
            "Epoch 5/30\n",
            "1800/1800 [==============================] - 94s 52ms/step - loss: 0.5722 - accuracy: 0.6735 - val_loss: 0.8876 - val_accuracy: 0.3472\n",
            "Epoch 6/30\n",
            "1800/1800 [==============================] - 94s 52ms/step - loss: 0.5181 - accuracy: 0.7481 - val_loss: 0.7078 - val_accuracy: 0.6648\n",
            "Epoch 7/30\n",
            "1800/1800 [==============================] - 93s 52ms/step - loss: 0.4499 - accuracy: 0.7977 - val_loss: 0.5173 - val_accuracy: 0.8188\n",
            "Epoch 8/30\n",
            "1800/1800 [==============================] - 93s 51ms/step - loss: 0.4062 - accuracy: 0.8230 - val_loss: 0.5100 - val_accuracy: 0.8130\n",
            "Epoch 9/30\n",
            "1800/1800 [==============================] - 94s 52ms/step - loss: 0.3900 - accuracy: 0.8321 - val_loss: 0.4230 - val_accuracy: 0.8516\n",
            "Epoch 10/30\n",
            "1800/1800 [==============================] - 94s 52ms/step - loss: 0.3745 - accuracy: 0.8401 - val_loss: 0.3761 - val_accuracy: 0.8684\n",
            "Epoch 11/30\n",
            "1800/1800 [==============================] - 91s 50ms/step - loss: 0.3686 - accuracy: 0.8424 - val_loss: 0.5022 - val_accuracy: 0.7930\n",
            "Epoch 12/30\n",
            "1800/1800 [==============================] - 89s 50ms/step - loss: 0.3625 - accuracy: 0.8449 - val_loss: 0.3460 - val_accuracy: 0.8828\n",
            "Epoch 13/30\n",
            "1800/1800 [==============================] - 90s 50ms/step - loss: 0.3563 - accuracy: 0.8475 - val_loss: 0.3467 - val_accuracy: 0.8757\n",
            "Epoch 14/30\n",
            "1800/1800 [==============================] - 91s 51ms/step - loss: 0.3527 - accuracy: 0.8508 - val_loss: 0.3733 - val_accuracy: 0.8601\n",
            "Epoch 15/30\n",
            "1800/1800 [==============================] - 92s 51ms/step - loss: 0.3510 - accuracy: 0.8518 - val_loss: 0.2852 - val_accuracy: 0.9137\n",
            "Epoch 16/30\n",
            "1800/1800 [==============================] - 91s 51ms/step - loss: 0.3488 - accuracy: 0.8531 - val_loss: 0.3292 - val_accuracy: 0.8862\n",
            "Epoch 17/30\n",
            "1800/1800 [==============================] - 90s 50ms/step - loss: 0.3465 - accuracy: 0.8536 - val_loss: 0.2945 - val_accuracy: 0.9060\n",
            "Epoch 18/30\n",
            "1800/1800 [==============================] - 98s 54ms/step - loss: 0.3422 - accuracy: 0.8567 - val_loss: 0.3102 - val_accuracy: 0.8995\n",
            "Epoch 19/30\n",
            "1800/1800 [==============================] - 97s 54ms/step - loss: 0.3405 - accuracy: 0.8571 - val_loss: 0.4093 - val_accuracy: 0.8378\n",
            "Epoch 20/30\n",
            "1800/1800 [==============================] - 96s 53ms/step - loss: 0.3403 - accuracy: 0.8574 - val_loss: 0.3293 - val_accuracy: 0.8892\n",
            "Epoch 21/30\n",
            "1800/1800 [==============================] - 99s 55ms/step - loss: 0.3366 - accuracy: 0.8585 - val_loss: 0.3242 - val_accuracy: 0.8921\n",
            "Epoch 22/30\n",
            "1800/1800 [==============================] - 97s 54ms/step - loss: 0.3351 - accuracy: 0.8603 - val_loss: 0.3380 - val_accuracy: 0.8829\n",
            "Epoch 23/30\n",
            "1800/1800 [==============================] - 94s 52ms/step - loss: 0.3347 - accuracy: 0.8603 - val_loss: 0.2878 - val_accuracy: 0.9082\n",
            "Epoch 24/30\n",
            "1800/1800 [==============================] - 95s 53ms/step - loss: 0.3313 - accuracy: 0.8621 - val_loss: 0.3498 - val_accuracy: 0.8738\n",
            "Epoch 25/30\n",
            "1800/1800 [==============================] - 97s 54ms/step - loss: 0.3297 - accuracy: 0.8623 - val_loss: 0.2595 - val_accuracy: 0.9227\n",
            "Epoch 26/30\n",
            "1800/1800 [==============================] - 97s 54ms/step - loss: 0.3298 - accuracy: 0.8631 - val_loss: 0.2303 - val_accuracy: 0.9358\n",
            "Epoch 27/30\n",
            "1800/1800 [==============================] - 97s 54ms/step - loss: 0.3274 - accuracy: 0.8638 - val_loss: 0.2806 - val_accuracy: 0.9111\n",
            "Epoch 28/30\n",
            "1800/1800 [==============================] - 95s 53ms/step - loss: 0.3283 - accuracy: 0.8625 - val_loss: 0.2857 - val_accuracy: 0.9062\n",
            "Epoch 29/30\n",
            "1800/1800 [==============================] - 95s 53ms/step - loss: 0.3259 - accuracy: 0.8645 - val_loss: 0.3324 - val_accuracy: 0.8860\n",
            "Epoch 30/30\n",
            "1800/1800 [==============================] - 93s 52ms/step - loss: 0.3266 - accuracy: 0.8636 - val_loss: 0.2887 - val_accuracy: 0.9041\n"
          ],
          "name": "stdout"
        },
        {
          "output_type": "execute_result",
          "data": {
            "text/plain": [
              "<tensorflow.python.keras.callbacks.History at 0x7f61ed3c2e80>"
            ]
          },
          "metadata": {
            "tags": []
          },
          "execution_count": 33
        }
      ]
    },
    {
      "cell_type": "markdown",
      "metadata": {
        "tags": [],
        "cell_id": "00061-7ae9173b-107f-49b2-a795-33424ed194ad",
        "deepnote_cell_type": "markdown",
        "id": "f6GlLoepx9rp"
      },
      "source": [
        "Hallamos las métricas para cada set"
      ]
    },
    {
      "cell_type": "code",
      "metadata": {
        "tags": [],
        "cell_id": "00062-d4420503-b460-48e7-8dc7-83f74ada9234",
        "output_cleared": false,
        "source_hash": "e7b41805",
        "execution_millis": 73232,
        "execution_start": 1608340620055,
        "deepnote_cell_type": "code",
        "colab": {
          "base_uri": "https://localhost:8080/"
        },
        "id": "Igwx8KYqx9rp",
        "outputId": "6c21518f-be8e-44a6-a7cd-6b1f476a21cd"
      },
      "source": [
        "#Calculo el accuracy y la pérdida para Train y Test\n",
        "train_scores = model.evaluate(X_tr, y_train, verbose=0)\n",
        "print(\"Train loss:\", train_scores[0])\n",
        "print(\"Train accuracy:\", train_scores[1],'\\n')\n",
        "\n",
        "dev_scores = model.evaluate(X_de, y_dev, verbose=0)\n",
        "print(\"Dev loss:\", dev_scores[0])\n",
        "print(\"Dev accuracy:\", dev_scores[1],'\\n')\n",
        "\n",
        "test_scores = model.evaluate(X_te, y_test, verbose=0)\n",
        "print(\"Test loss:\", test_scores[0])\n",
        "print(\"Test accuracy:\", test_scores[1], '<--')"
      ],
      "execution_count": 34,
      "outputs": [
        {
          "output_type": "stream",
          "text": [
            "Train loss: 0.30754342675209045\n",
            "Train accuracy: 0.8719750046730042 \n",
            "\n",
            "Dev loss: 0.32203856110572815\n",
            "Dev accuracy: 0.8661999702453613 \n",
            "\n",
            "Test loss: 0.3136732578277588\n",
            "Test accuracy: 0.8646000027656555 <--\n"
          ],
          "name": "stdout"
        }
      ]
    },
    {
      "cell_type": "code",
      "metadata": {
        "colab": {
          "base_uri": "https://localhost:8080/",
          "height": 360
        },
        "id": "kjDJP4NcZ4he",
        "outputId": "2d2fddae-c753-4e25-8da9-69d268758dbe"
      },
      "source": [
        "y_pred_prob = model.predict(X_te)\r\n",
        "y_test_pred_lstm = np.where(y_pred_prob>0.5, 1, 0)\r\n",
        "\r\n",
        "plt.figure(figsize=(6, 5))\r\n",
        "conf_sent = confusion_matrix(y_test, y_test_pred_lstm, \r\n",
        "                             labels=[0, 1], \r\n",
        "                             normalize='true')\r\n",
        "sns.heatmap(data = conf_sent, cbar=True, square=True, annot=True, \r\n",
        "            fmt= '.2f', annot_kws={'size': 13}, \r\n",
        "            xticklabels= ['Neg-', 'Pos+'], \r\n",
        "            yticklabels=['Neg-', 'Pos+'], \r\n",
        "            cmap=redpink)\r\n",
        "\r\n",
        "plt.title('Matriz de confusión', pad=16)\r\n",
        "plt.ylabel('Reales')\r\n",
        "plt.xlabel('Predichos')\r\n",
        "plt.xticks(rotation = 0)\r\n",
        "plt.yticks(rotation = 0)\r\n",
        "plt.tight_layout()\r\n",
        "plt.show()"
      ],
      "execution_count": 49,
      "outputs": [
        {
          "output_type": "display_data",
          "data": {
            "image/png": "[encoded data removed]",
            "text/plain": [
              "<Figure size 432x360 with 2 Axes>"
            ]
          },
          "metadata": {
            "tags": []
          }
        }
      ]
    },
    {
      "cell_type": "markdown",
      "metadata": {
        "id": "DVwzOrg5L2k2"
      },
      "source": [
        "## 3. Resultados y conclusiones\r\n",
        "![](https://i.imgur.com/cCqG6yW.png)\r\n",
        "\r\n",
        "Como se puede observar en los resultados de la red neuronal, la diferencia frente al modelo de Linerar SVC es mínima. \r\n",
        "\r\n",
        "La red neuronal de LSTM produjo una mejora de 0.002 en el set de entrenamiento y de casi 0 en el set de validación. La red neuronal desmejora un poco el accuracuracy en las reviews negativas, mientras al mismo tiempo mejora un poco en las positivas. Se podría decir que predice en general predice ligeramente mejor las clases, pero la diferencia es tan baja que facilmente podría cambiarse ajustando hiperparametros en ambos modelos.\r\n",
        "\r\n",
        "En definitiva, se rechaza la hipotesis planteada al inicio del proyecto. Utilizar una red neuronal LSTM no mejora el accuracy frente a un algoritmo de SVM con función lineal.\r\n",
        "\r\n",
        "Hay que señalar que en ambos se controló muy bien el sobrejauste a los datos puesto que el accuracy en train y test no difiere mucho. Y es por ello que ambos modelos son opciones viables para resolver el problema, pero la opinión del autor es que el modelo de Linear SVC tiene cierta superioridad por su simpleza e interpretabilidad.\r\n",
        "\r\n",
        "Aunque, hay que aclarar que la red neuronal aún tiene capacidad de mejora: se pueden probar modelos prenetrenados, hacer una exploración de hiperparametros más exhaustaiva o utilizar embeddings entrenados con corpus en español.\r\n"
      ]
    }
  ]
}